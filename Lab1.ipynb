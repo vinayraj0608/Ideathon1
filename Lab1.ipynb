{
  "nbformat": 4,
  "nbformat_minor": 0,
  "metadata": {
    "colab": {
      "provenance": [],
      "authorship_tag": "ABX9TyOdGlS3Rs/R+3Pjn1QpA4hf",
      "include_colab_link": true
    },
    "kernelspec": {
      "name": "python3",
      "display_name": "Python 3"
    },
    "language_info": {
      "name": "python"
    }
  },
  "cells": [
    {
      "cell_type": "markdown",
      "metadata": {
        "id": "view-in-github",
        "colab_type": "text"
      },
      "source": [
        "<a href=\"https://colab.research.google.com/github/vinayraj0608/Ideathon1/blob/main/Lab1.ipynb\" target=\"_parent\"><img src=\"https://colab.research.google.com/assets/colab-badge.svg\" alt=\"Open In Colab\"/></a>"
      ]
    },
    {
      "cell_type": "code",
      "execution_count": null,
      "metadata": {
        "colab": {
          "base_uri": "https://localhost:8080/"
        },
        "id": "yY42XDLf4rp0",
        "outputId": "b6760bb3-64ff-42f8-f400-5429bc84ada6"
      },
      "outputs": [
        {
          "output_type": "stream",
          "name": "stdout",
          "text": [
            "output\n",
            "[0. 0. 0. 1.]\n"
          ]
        }
      ],
      "source": [
        "import numpy as np\n",
        "x = np.asarray([[0,0],[0,1],[1,0],[1,1]])\n",
        "y = np.asarray([0,0,0,1])\n",
        "y_pred=np.zeros(4)\n",
        "weights = np.asarray([1,1])\n",
        "threshold = 1.5\n",
        "for index in range(x.shape[0]):\n",
        "  X=x[index]\n",
        "  sw=np.dot(X,weights)\n",
        "  if sw >= threshold:\n",
        "    y_pred[index]=1\n",
        "  else:\n",
        "    y_pred[index]=0\n",
        "print('output')\n",
        "print(y_pred)\n"
      ]
    },
    {
      "cell_type": "code",
      "execution_count": null,
      "metadata": {
        "colab": {
          "base_uri": "https://localhost:8080/"
        },
        "outputId": "6a525cfd-adb2-4a2f-98db-a0f82b5b6bda",
        "id": "1XhNttB6-wrl"
      },
      "outputs": [
        {
          "output_type": "stream",
          "name": "stdout",
          "text": [
            "output\n",
            "[0. 1. 1. 1.]\n"
          ]
        }
      ],
      "source": [
        "import numpy as np\n",
        "x = np.asarray([[0,0],[0,1],[1,0],[1,1]])\n",
        "y = np.asarray([0,1,1,1])\n",
        "y_pred=np.zeros(4)\n",
        "weights = np.asarray([1,1])\n",
        "threshold = 1\n",
        "for index in range(x.shape[0]):\n",
        "  X=x[index]\n",
        "  sw=np.dot(X,weights)\n",
        "  if sw >= threshold:\n",
        "    y_pred[index]=1\n",
        "  else:\n",
        "    y_pred[index]=0\n",
        "print('output')\n",
        "print(y_pred)\n"
      ]
    }
  ]
}